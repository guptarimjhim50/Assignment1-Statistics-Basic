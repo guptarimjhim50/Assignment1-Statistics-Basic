{
  "nbformat": 4,
  "nbformat_minor": 0,
  "metadata": {
    "colab": {
      "provenance": []
    },
    "kernelspec": {
      "name": "python3",
      "display_name": "Python 3"
    },
    "language_info": {
      "name": "python"
    }
  },
  "cells": [
    {
      "cell_type": "markdown",
      "source": [
        "1.What is statistics, and why is it important?\n",
        "\n",
        "Statistics is the science of collecting, organizing, analyzing, interpreting, and presenting data. It helps us make informed decisions based on data patterns and trends. It’s essential in fields like healthcare, economics, business, social science, and more.\n",
        "\n",
        "Importance:\n",
        "\n",
        "Enables data-driven decision-making.\n",
        "\n",
        "Helps summarize large datasets meaningfully.\n",
        "\n",
        "Supports research and policy development.\n",
        "\n",
        "Aids in predicting future outcomes (e.g., market trends, weather forecasting)."
      ],
      "metadata": {
        "id": "mGxXRUBO-B_h"
      }
    },
    {
      "cell_type": "markdown",
      "source": [
        "2.What are the two main types of statistics?\n",
        "\n",
        "The two main types are:\n",
        "\n",
        "Descriptive Statistics – Summarizes and describes features of a dataset.\n",
        "\n",
        "Inferential Statistics – Makes predictions or generalizations about a population based on a sample."
      ],
      "metadata": {
        "id": "9HCm_KQ6-E4l"
      }
    },
    {
      "cell_type": "markdown",
      "source": [
        "3.What are descriptive statistics?\n",
        "\n",
        "Descriptive statistics are methods for summarizing data using:\n",
        "\n",
        "Measures of central tendency (mean, median, mode)\n",
        "\n",
        "Measures of dispersion (range, variance, standard deviation)\n",
        "\n",
        "Graphs and tables (bar charts, histograms)\n",
        "\n",
        "Example: Reporting the average test score of a class."
      ],
      "metadata": {
        "id": "QQMf9mgU-Kuc"
      }
    },
    {
      "cell_type": "markdown",
      "source": [
        "4.What is inferential statistics?\n",
        "\n",
        "Inferential statistics allows conclusions to be drawn about a larger population from a sample. It uses:\n",
        "\n",
        "Hypothesis testing\n",
        "\n",
        "Confidence intervals\n",
        "\n",
        "Regression analysis\n",
        "\n",
        "Example: Predicting election outcomes based on a voter sample.\n",
        "\n"
      ],
      "metadata": {
        "id": "Lqf4edmd-Q08"
      }
    },
    {
      "cell_type": "markdown",
      "source": [
        "5.What is sampling in statistics?\n",
        "\n",
        "Sampling is the process of selecting a subset of individuals from a population to estimate characteristics of the whole population. It saves time and resources while still providing meaningful insights."
      ],
      "metadata": {
        "id": "WyZxBxSg-Vqw"
      }
    },
    {
      "cell_type": "markdown",
      "source": [
        "6.What are the different types of sampling methods?\n",
        "\n",
        "Sampling methods include:\n",
        "\n",
        "Random Sampling Methods:\n",
        "\n",
        "Simple random sampling: Every individual has an equal chance.\n",
        "\n",
        "Stratified sampling: Population divided into subgroups; samples taken from each.\n",
        "\n",
        "Systematic sampling: Every kth item is selected.\n",
        "\n",
        "Cluster sampling: Entire groups (clusters) are selected randomly.\n",
        "\n",
        "Non-Random Sampling Methods:\n",
        "\n",
        "Convenience sampling: Based on ease of access.\n",
        "\n",
        "Judgmental sampling: Based on the researcher’s judgment.\n",
        "\n",
        "Snowball sampling: Existing subjects help recruit more."
      ],
      "metadata": {
        "id": "M8Haez61-ceU"
      }
    },
    {
      "cell_type": "markdown",
      "source": [
        "7.What is the difference between random and non-random sampling?\n",
        "Random Sampling: Each member has a known and equal chance. Reduces bias.\n",
        "\n",
        "Non-Random Sampling: Selection is subjective or based on convenience. Can introduce bias.\n",
        "\n"
      ],
      "metadata": {
        "id": "5vK3tGzF-hmy"
      }
    },
    {
      "cell_type": "markdown",
      "source": [
        "8.Define and give examples of qualitative and quantitative data.\n",
        "\n",
        "Qualitative Data (Categorical): Describes qualities or categories.\n",
        "\n",
        "Examples: Colors, gender, marital status.\n",
        "\n",
        "Quantitative Data (Numerical): Represents measurable quantities.\n",
        "\n",
        "Examples: Height, age, test scores.\n",
        "\n",
        "9.What are the different types of data in statistics?\n",
        "\n",
        "Data types include:\n",
        "\n",
        "Qualitative (Categorical): Nominal, Ordinal\n",
        "\n",
        "Quantitative (Numerical): Discrete, Continuous\n",
        "\n",
        "10.Explain nominal, ordinal, interval, and ratio levels of measurement.\n",
        "\n",
        "Nominal: Categories with no order. (e.g., blood type)\n",
        "\n",
        "Ordinal: Ordered categories. (e.g., satisfaction ratings)\n",
        "\n",
        "Interval: Ordered, equal spacing, no true zero. (e.g., temperature in °C)\n",
        "\n",
        "Ratio: Like interval, but has a true zero. (e.g., weight, height)\n",
        "\n",
        "11.What is the measure of central tendency?\n",
        "\n",
        "These are values that represent the center or average of a dataset. They help summarize data with a single value.\n",
        "\n",
        "12.Define mean, median, and mode.\n",
        "\n",
        "Mean: Arithmetic average.\n",
        "\n",
        "Median: Middle value when data is ordered.\n",
        "\n",
        "Mode: Most frequent value in the dataset.\n",
        "\n",
        "13.What is the significance of the measure of central tendency?\n",
        "\n",
        "It provides a quick summary of a dataset and helps compare different datasets. Useful for understanding the general trend or behavior of data.\n",
        "\n",
        "14.What is variance, and how is it calculated?\n",
        "\n",
        "Variance measures the average squared deviation from the mean.\n",
        "\n",
        "Formula:\n",
        "\n",
        "Variance\n",
        "(\n",
        "𝜎\n",
        "2\n",
        ")\n",
        "=\n",
        "∑\n",
        "(\n",
        "𝑥\n",
        "𝑖\n",
        "−\n",
        "𝜇\n",
        ")\n",
        "2/\n",
        "𝑁\n",
        "\n",
        "\n",
        "\n",
        "Where:\n",
        "\n",
        "\n",
        "\n",
        "x\n",
        "i\n",
        "​\n",
        "  = each value\n",
        "\n",
        "\n",
        "μ = mean\n",
        "\n",
        "\n",
        "N = number of values\n",
        "\n",
        "15.What is standard deviation, and why is it important?\n",
        "\n",
        "Standard deviation is the square root of the variance. It tells how spread out the values are around the mean.\n",
        "\n",
        "Importance:\n",
        "\n",
        "Easier to interpret than variance.\n",
        "\n",
        "Helps assess data consistency.\n",
        "\n",
        "16.Define and explain the term range in statistics.\n",
        "\n",
        "Range = Maximum value – Minimum value\n",
        "It’s the simplest measure of spread, showing the total spread of the data.\n",
        "\n",
        "17.What is the difference between variance and standard deviation?\n",
        "Variance: Average squared deviation.\n",
        "\n",
        "Standard Deviation: Square root of variance; in original units, making it easier to interpret.\n",
        "\n",
        "18.What is skewness in a dataset?\n",
        "\n",
        "Skewness measures the asymmetry of the distribution.\n",
        "\n",
        "Positive skew: Tail on the right.\n",
        "\n",
        "Negative skew: Tail on the left.\n",
        "\n",
        "Zero skew: Symmetrical distribution.\n",
        "\n",
        "19.What does it mean if a dataset is positively or negatively skewed?\n",
        "\n",
        "Positively Skewed: Most values are on the lower end; few large values.\n",
        "\n",
        "Negatively Skewed: Most values are high; few small values.\n",
        "\n",
        "20.Define and explain kurtosis.\n",
        "\n",
        "Kurtosis measures the \"tailedness\" of a distribution:\n",
        "\n",
        "Leptokurtic: Heavy tails (more outliers).\n",
        "\n",
        "Mesokurtic: Normal distribution.\n",
        "\n",
        "Platykurtic: Light tails (fewer outliers).\n",
        "\n",
        "21.What is the purpose of covariance?\n",
        "\n",
        "Covariance indicates the direction of a linear relationship between two variables:\n",
        "\n",
        "Positive: variables move in the same direction.\n",
        "\n",
        "Negative: variables move in opposite directions.\n",
        "\n",
        "22. What does correlation measure in statistics?\n",
        "\n",
        "Correlation measures both the strength and direction of a linear relationship between two variables, typically using the Pearson correlation coefficient (r):\n",
        "\n",
        "Ranges from -1 to +1.\n",
        "\n",
        "0 means no correlation.\n",
        "\n",
        "23. What is the difference between covariance and correlation?\n",
        "\n",
        "Covariance: Indicates direction only; values are unbounded.\n",
        "\n",
        "Correlation: Standardized version of covariance; bounded between -1 and 1.\n",
        "\n",
        "24. What are some real-world applications of statistics?\n",
        "\n",
        "Healthcare: Drug testing, disease prediction.\n",
        "\n",
        "Business: Customer behavior analysis, quality control.\n",
        "\n",
        "Education: Evaluating student performance.\n",
        "\n",
        "Government: Census, economic planning.\n",
        "\n",
        "Sports: Player performance, game strategy."
      ],
      "metadata": {
        "id": "Qu1ECECX-rug"
      }
    },
    {
      "cell_type": "markdown",
      "source": [
        "**PRACTICAL QUESTIONS**"
      ],
      "metadata": {
        "id": "Ql4P3KUVAYTS"
      }
    },
    {
      "cell_type": "markdown",
      "source": [
        "1. How do you calculate the mean, median, and mode of a dataset"
      ],
      "metadata": {
        "id": "UQfzTwKLAbnP"
      }
    },
    {
      "cell_type": "code",
      "source": [
        "import statistics\n",
        "\n",
        "data = [12, 15, 15, 17, 19, 20, 20, 20, 25]\n",
        "\n",
        "mean = statistics.mean(data)\n",
        "median = statistics.median(data)\n",
        "mode = statistics.mode(data)\n",
        "\n",
        "print(f\"Mean: {mean}, Median: {median}, Mode: {mode}\")\n"
      ],
      "metadata": {
        "id": "z_dRZclHArvD"
      },
      "execution_count": null,
      "outputs": []
    },
    {
      "cell_type": "markdown",
      "source": [
        "2. Write a Python program to compute the variance and standard deviation of a dataset"
      ],
      "metadata": {
        "id": "JuSWbHgPAsrO"
      }
    },
    {
      "cell_type": "code",
      "source": [
        "import statistics\n",
        "\n",
        "data = [10, 12, 23, 23, 16, 23, 21, 16]\n",
        "\n",
        "variance = statistics.variance(data)\n",
        "std_dev = statistics.stdev(data)\n",
        "\n",
        "print(f\"Variance: {variance}, Standard Deviation: {std_dev}\")\n"
      ],
      "metadata": {
        "id": "U3vMouILBs1V"
      },
      "execution_count": null,
      "outputs": []
    },
    {
      "cell_type": "markdown",
      "source": [
        "3. Create a dataset and classify it into nominal, ordinal, interval, and ratio\n"
      ],
      "metadata": {
        "id": "XwoXu1fpAwGi"
      }
    },
    {
      "cell_type": "code",
      "source": [
        "dataset = {\n",
        "    \"Nominal\": [\"Red\", \"Blue\", \"Green\"],\n",
        "    \"Ordinal\": [\"Low\", \"Medium\", \"High\"],\n",
        "    \"Interval\": [10, 20, 30],  # Temperature in Celsius\n",
        "    \"Ratio\": [5, 10, 15]       # Weight in kg\n",
        "}\n",
        "print(dataset)\n"
      ],
      "metadata": {
        "id": "A_OQQNJRA0U7"
      },
      "execution_count": null,
      "outputs": []
    },
    {
      "cell_type": "markdown",
      "source": [
        "4. Implement sampling techniques like random sampling and stratified sampling"
      ],
      "metadata": {
        "id": "9CMZ4zVABJq2"
      }
    },
    {
      "cell_type": "code",
      "source": [
        "import pandas as pd\n",
        "from sklearn.model_selection import train_test_split\n",
        "\n",
        "# Sample dataset\n",
        "df = pd.DataFrame({\n",
        "    \"Gender\": [\"Male\", \"Female\"] * 5,\n",
        "    \"Score\": [45, 48, 52, 55, 60, 65, 68, 70, 75, 80]\n",
        "})\n",
        "\n",
        "# Random sampling\n",
        "random_sample = df.sample(n=4)\n",
        "\n",
        "# Stratified sampling based on gender\n",
        "stratified_sample = df.groupby('Gender', group_keys=False).apply(lambda x: x.sample(frac=0.5))\n",
        "\n",
        "print(\"Random Sample:\\n\", random_sample)\n",
        "print(\"\\nStratified Sample:\\n\", stratified_sample)\n"
      ],
      "metadata": {
        "id": "RlnJSk4_BNFC"
      },
      "execution_count": null,
      "outputs": []
    },
    {
      "cell_type": "markdown",
      "source": [
        "5.Write a Python function to calculate the range of a dataset"
      ],
      "metadata": {
        "id": "tobWahQzBNSM"
      }
    },
    {
      "cell_type": "code",
      "source": [
        "def calculate_range(data):\n",
        "    return max(data) - min(data)\n",
        "\n",
        "data = [3, 7, 2, 9, 5]\n",
        "print(\"Range:\", calculate_range(data))\n"
      ],
      "metadata": {
        "id": "CWQj4JBsBTp-"
      },
      "execution_count": null,
      "outputs": []
    },
    {
      "cell_type": "markdown",
      "source": [
        "6. Create a dataset and plot its histogram to visualize skewness"
      ],
      "metadata": {
        "id": "jDdOgOXrBT08"
      }
    },
    {
      "cell_type": "code",
      "source": [
        "import matplotlib.pyplot as plt\n",
        "import numpy as np\n",
        "\n",
        "data = np.random.exponential(scale=2, size=1000)\n",
        "\n",
        "plt.hist(data, bins=30)\n",
        "plt.title(\"Histogram to Show Skewness\")\n",
        "plt.xlabel(\"Values\")\n",
        "plt.ylabel(\"Frequency\")\n",
        "plt.show()\n"
      ],
      "metadata": {
        "id": "WRg-hYKdBXBC"
      },
      "execution_count": null,
      "outputs": []
    },
    {
      "cell_type": "markdown",
      "source": [
        " 7. Calculate skewness and kurtosis of a dataset using Python libraries"
      ],
      "metadata": {
        "id": "u7gGA3QSBXLP"
      }
    },
    {
      "cell_type": "code",
      "source": [
        "from scipy.stats import skew, kurtosis\n",
        "\n",
        "data = np.random.normal(loc=0, scale=1, size=1000)\n",
        "\n",
        "print(\"Skewness:\", skew(data))\n",
        "print(\"Kurtosis:\", kurtosis(data))\n"
      ],
      "metadata": {
        "id": "4YhvtCKbCQYA"
      },
      "execution_count": null,
      "outputs": []
    },
    {
      "cell_type": "markdown",
      "source": [
        "8. Generate a dataset and demonstrate positive and negative skewness"
      ],
      "metadata": {
        "id": "oQlF3uIpBg0Q"
      }
    },
    {
      "cell_type": "code",
      "source": [
        "positive_skew = np.random.exponential(scale=2, size=1000)\n",
        "negative_skew = -1 * np.random.exponential(scale=2, size=1000)\n",
        "\n",
        "plt.hist(positive_skew, bins=30)\n",
        "plt.title(\"Positive Skew\")\n",
        "plt.show()\n",
        "\n",
        "plt.hist(negative_skew, bins=30)\n",
        "plt.title(\"Negative Skew\")\n",
        "plt.show()\n"
      ],
      "metadata": {
        "id": "cQ_zCL0lCTNI"
      },
      "execution_count": null,
      "outputs": []
    },
    {
      "cell_type": "markdown",
      "source": [
        "9. Write a Python script to calculate covariance between two datasets"
      ],
      "metadata": {
        "id": "Q5LNxoWxCYVd"
      }
    },
    {
      "cell_type": "code",
      "source": [
        "import numpy as np\n",
        "\n",
        "x = [1, 2, 3, 4, 5]\n",
        "y = [2, 4, 6, 8, 10]\n",
        "\n",
        "cov_matrix = np.cov(x, y)\n",
        "print(\"Covariance:\", cov_matrix[0, 1])\n"
      ],
      "metadata": {
        "id": "oSXqPmeACf4B"
      },
      "execution_count": null,
      "outputs": []
    },
    {
      "cell_type": "markdown",
      "source": [
        "10.Write a Python script to calculate the correlation coefficient between two datasets"
      ],
      "metadata": {
        "id": "SA1B4lCICgiI"
      }
    },
    {
      "cell_type": "code",
      "source": [
        "correlation = np.corrcoef(x, y)\n",
        "print(\"Correlation Coefficient:\", correlation[0, 1])\n"
      ],
      "metadata": {
        "id": "r6HeyzQZCh7M"
      },
      "execution_count": null,
      "outputs": []
    },
    {
      "cell_type": "markdown",
      "source": [
        "11. Create a scatter plot to visualize the relationship between two variables"
      ],
      "metadata": {
        "id": "U3-IOHygCiVW"
      }
    },
    {
      "cell_type": "code",
      "source": [
        "plt.scatter(x, y)\n",
        "plt.title(\"Scatter Plot\")\n",
        "plt.xlabel(\"X\")\n",
        "plt.ylabel(\"Y\")\n",
        "plt.show()\n"
      ],
      "metadata": {
        "id": "Oyi_QxO2CsBF"
      },
      "execution_count": null,
      "outputs": []
    },
    {
      "cell_type": "markdown",
      "source": [
        "12. Implement and compare simple random sampling and systematic sampling"
      ],
      "metadata": {
        "id": "BCFnc3ExDG-W"
      }
    },
    {
      "cell_type": "code",
      "source": [],
      "metadata": {
        "id": "xrv-KRhvDUtz"
      },
      "execution_count": null,
      "outputs": []
    },
    {
      "cell_type": "markdown",
      "source": [
        " 13.Calculate the mean, median, and mode of grouped data"
      ],
      "metadata": {
        "id": "DbuKH_EuDVE4"
      }
    },
    {
      "cell_type": "code",
      "source": [
        "import pandas as pd\n",
        "\n",
        "# Class intervals and frequencies\n",
        "data = {\n",
        "    \"Class\": [\"0-10\", \"10-20\", \"20-30\", \"30-40\", \"40-50\"],\n",
        "    \"Frequency\": [5, 8, 15, 16, 6]\n",
        "}\n",
        "\n",
        "df = pd.DataFrame(data)\n",
        "df[\"Midpoint\"] = [5, 15, 25, 35, 45]\n",
        "df[\"Fx\"] = df[\"Midpoint\"] * df[\"Frequency\"]\n",
        "\n",
        "mean_grouped = df[\"Fx\"].sum() / df[\"Frequency\"].sum()\n",
        "print(\"Grouped Mean:\", mean_grouped)\n"
      ],
      "metadata": {
        "colab": {
          "base_uri": "https://localhost:8080/"
        },
        "id": "48Ezsv08DXdk",
        "outputId": "0e149693-a807-4028-b47a-33c2696691eb"
      },
      "execution_count": null,
      "outputs": [
        {
          "output_type": "stream",
          "name": "stdout",
          "text": [
            "Grouped Mean: 27.0\n"
          ]
        }
      ]
    },
    {
      "cell_type": "markdown",
      "source": [
        "14.Simulate data using Python and calculate its central tendency and dispersion."
      ],
      "metadata": {
        "id": "GGrpABHADXnw"
      }
    },
    {
      "cell_type": "code",
      "source": [
        "import numpy as np\n",
        "import statistics\n",
        "\n",
        "data = np.random.normal(loc=50, scale=10, size=100)\n",
        "\n",
        "mean = statistics.mean(data)\n",
        "median = statistics.median(data)\n",
        "mode = statistics.mode(data.round())  # round for discrete mode\n",
        "variance = statistics.variance(data)\n",
        "std_dev = statistics.stdev(data)\n",
        "\n",
        "print(f\"Mean: {mean}, Median: {median}, Mode: {mode}, Variance: {variance}, Std Dev: {std_dev}\")\n"
      ],
      "metadata": {
        "id": "iUjUMMQbDs1Y"
      },
      "execution_count": null,
      "outputs": []
    },
    {
      "cell_type": "code",
      "source": [
        "15. Use NumPy or pandas to summarize a dataset’s descriptive statistics"
      ],
      "metadata": {
        "id": "LM5yAqhPD6dS"
      },
      "execution_count": null,
      "outputs": []
    },
    {
      "cell_type": "code",
      "source": [
        "import numpy as np\n",
        "import pandas as pd\n",
        "import seaborn as sns\n",
        "import matplotlib.pyplot as plt\n",
        "from scipy.stats import zscore, skew, kurtosis, pearsonr, spearmanr\n"
      ],
      "metadata": {
        "id": "BFF9KzRhEVgt"
      },
      "execution_count": null,
      "outputs": []
    },
    {
      "cell_type": "markdown",
      "source": [
        "16.Plot a boxplot to understand the spread and identify outliers"
      ],
      "metadata": {
        "id": "SI2rHKEOEVvh"
      }
    },
    {
      "cell_type": "code",
      "source": [
        "# Generate example dataset\n",
        "np.random.seed(42)\n",
        "data = pd.DataFrame({\n",
        "    'A': np.random.normal(50, 10, 100),\n",
        "    'B': np.random.normal(60, 15, 100)\n",
        "})\n",
        "\n",
        "print(data.describe())\n"
      ],
      "metadata": {
        "id": "KDcUUt64EZyX"
      },
      "execution_count": null,
      "outputs": []
    },
    {
      "cell_type": "markdown",
      "source": [
        "17.Calculate the interquartile range (IQR) of a dataset"
      ],
      "metadata": {
        "id": "NF5kVo0yEZ8j"
      }
    },
    {
      "cell_type": "code",
      "source": [
        "# Boxplot\n",
        "sns.boxplot(data=data)\n",
        "plt.title(\"Boxplot of A and B\")\n",
        "plt.show()\n",
        "\n",
        "# IQR Calculation\n",
        "Q1 = data.quantile(0.25)\n",
        "Q3 = data.quantile(0.75)\n",
        "IQR = Q3 - Q1\n",
        "print(f\"IQR:\\n{IQR}\")\n"
      ],
      "metadata": {
        "id": "ww_WPIYAEdl_"
      },
      "execution_count": null,
      "outputs": []
    },
    {
      "cell_type": "markdown",
      "source": [
        "18.Implement Z-score normalization and explain its significance"
      ],
      "metadata": {
        "id": "_aOohustEdv3"
      }
    },
    {
      "cell_type": "code",
      "source": [
        "# Z-score\n",
        "z_normalized = data.apply(zscore)\n",
        "print(\"Z-score normalized data:\\n\", z_normalized.head())\n",
        "\n",
        "# Significance: standardizes values, useful for comparison and outlier detection.\n"
      ],
      "metadata": {
        "id": "zMWoykVzEoAK"
      },
      "execution_count": null,
      "outputs": []
    },
    {
      "cell_type": "markdown",
      "source": [
        "19.Compare two datasets using their standard deviation"
      ],
      "metadata": {
        "id": "DBgc5b-KEmT-"
      }
    },
    {
      "cell_type": "code",
      "source": [
        "std_A = np.std(data['A'], ddof=1)\n",
        "std_B = np.std(data['B'], ddof=1)\n",
        "print(f\"Standard Deviation of A: {std_A:.2f}, B: {std_B:.2f}\")\n"
      ],
      "metadata": {
        "id": "VLB61eInEzm7"
      },
      "execution_count": null,
      "outputs": []
    },
    {
      "cell_type": "markdown",
      "source": [
        "20.Write a Python program to visualize covariance using a heatmap"
      ],
      "metadata": {
        "id": "jC5QoZmOE0M_"
      }
    },
    {
      "cell_type": "code",
      "source": [
        "cov_matrix = data.cov()\n",
        "sns.heatmap(cov_matrix, annot=True, cmap='coolwarm')\n",
        "plt.title(\"Covariance Heatmap\")\n",
        "plt.show()\n"
      ],
      "metadata": {
        "id": "fnO-2dN1Eosa"
      },
      "execution_count": null,
      "outputs": []
    },
    {
      "cell_type": "markdown",
      "source": [
        "21. Use seaborn to create a correlation matrix for a dataset"
      ],
      "metadata": {
        "id": "aSpIsEStE-CW"
      }
    },
    {
      "cell_type": "code",
      "source": [
        "corr_matrix = data.corr()\n",
        "sns.heatmap(corr_matrix, annot=True, cmap='viridis')\n",
        "plt.title(\"Correlation Matrix\")\n",
        "plt.show()\n"
      ],
      "metadata": {
        "id": "t1_itpl5FLVF"
      },
      "execution_count": null,
      "outputs": []
    },
    {
      "cell_type": "markdown",
      "source": [
        "22.Generate a dataset and implement both variance and standard deviation computations"
      ],
      "metadata": {
        "id": "ZTlC5wFaFJ_a"
      }
    },
    {
      "cell_type": "code",
      "source": [
        "var = data.var()\n",
        "std = data.std()\n",
        "print(f\"Variance:\\n{var}\\n\\nStandard Deviation:\\n{std}\")\n"
      ],
      "metadata": {
        "id": "8U_yXlylFKlj"
      },
      "execution_count": null,
      "outputs": []
    },
    {
      "cell_type": "markdown",
      "source": [
        "23.Visualize skewness and kurtosis using Python libraries like matplotlib or seaborn."
      ],
      "metadata": {
        "id": "TcU_ky0EFYa9"
      }
    },
    {
      "cell_type": "code",
      "source": [
        "for col in data.columns:\n",
        "    sns.histplot(data[col], kde=True)\n",
        "    plt.title(f\"{col} - Skew: {skew(data[col]):.2f}, Kurtosis: {kurtosis(data[col]):.2f}\")\n",
        "    plt.xlabel(col)\n",
        "    plt.show()\n"
      ],
      "metadata": {
        "id": "pUZI09B9FYHc"
      },
      "execution_count": null,
      "outputs": []
    },
    {
      "cell_type": "markdown",
      "source": [
        "24.5\u000f> Implement the Pearson and Spearman correlation coefficients for a dataset."
      ],
      "metadata": {
        "id": "5snFdR6EFksX"
      }
    },
    {
      "cell_type": "code",
      "source": [
        "pearson_corr, _ = pearsonr(data['A'], data['B'])\n",
        "spearman_corr, _ = spearmanr(data['A'], data['B'])\n",
        "print(f\"Pearson Correlation: {pearson_corr:.2f}\")\n",
        "print(f\"Spearman Correlation: {spearman_corr:.2f}\")\n"
      ],
      "metadata": {
        "id": "h2FPLrnIEg_m"
      },
      "execution_count": null,
      "outputs": []
    }
  ]
}